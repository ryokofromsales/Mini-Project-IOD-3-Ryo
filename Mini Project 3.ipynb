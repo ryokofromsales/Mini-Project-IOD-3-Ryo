{
 "cells": [
  {
   "cell_type": "code",
   "execution_count": null,
   "id": "cf86cd12-4cd3-438b-a1c3-8c267ae0ec0d",
   "metadata": {},
   "outputs": [],
   "source": [
    "#mini project 3"
   ]
  },
  {
   "cell_type": "code",
   "execution_count": null,
   "id": "cc5af766-524c-4883-a5f2-d08cb1ae6ab3",
   "metadata": {},
   "outputs": [],
   "source": [
    "#this project is attached to the Capstone"
   ]
  },
  {
   "cell_type": "code",
   "execution_count": null,
   "id": "8fc49755-d6fe-4e1c-a716-deec3dae5246",
   "metadata": {},
   "outputs": [],
   "source": [
    "#upload API from Steam, Twitch, and Reddit"
   ]
  },
  {
   "cell_type": "code",
   "execution_count": null,
   "id": "3c0e6110-23b7-4136-8ede-18b207f018d8",
   "metadata": {},
   "outputs": [],
   "source": [
    "#steam"
   ]
  },
  {
   "cell_type": "code",
   "execution_count": 12,
   "id": "ad06d305-2bcd-45d1-af11-9533ed3e61e7",
   "metadata": {},
   "outputs": [
    {
     "name": "stdout",
     "output_type": "stream",
     "text": [
      "#1: Counter-Strike 2 (AppID: 730) - Players: 683787\n",
      "#2: Dota 2 (AppID: 570) - Players: 354107\n",
      "#3: PUBG: BATTLEGROUNDS (AppID: 578080) - Players: 261313\n",
      "#4: Marvel Rivals (AppID: 2767030) - Players: 132842\n",
      "#5: Delta Force (AppID: 2507950) - Players: 100198\n",
      "#6: Bongo Cat (AppID: 3419430) - Players: 99600\n",
      "#7: PEAK (AppID: 3527290) - Players: 96372\n",
      "#8: Stardew Valley (AppID: 413150) - Players: 89697\n",
      "#9: Tom Clancy's Rainbow Six® Siege X (AppID: 359550) - Players: 83524\n",
      "#10: Wallpaper Engine (AppID: 431960) - Players: 81685\n",
      "#11: Rust (AppID: 252490) - Players: 81231\n",
      "#12: Banana (AppID: 2923300) - Players: 79650\n",
      "#13: Apex Legends (AppID: 1172470) - Players: 77730\n",
      "#14: RimWorld (AppID: 294100) - Players: 68944\n",
      "#15: NARAKA: BLADEPOINT (AppID: 1203220) - Players: 68205\n",
      "#16: Call of Duty® (AppID: 1938090) - Players: 67331\n",
      "#17: Dead by Daylight (AppID: 381210) - Players: 67137\n",
      "#18: Palworld (AppID: 1623730) - Players: 61468\n",
      "#19: Baldur's Gate 3 (AppID: 1086940) - Players: 59875\n",
      "#20: Dune: Awakening (AppID: 1172710) - Players: 59317\n"
     ]
    }
   ],
   "source": [
    "import requests\n",
    "from bs4 import BeautifulSoup\n",
    "\n",
    "def get_top_steam_games(n=20):\n",
    "    url = \"https://steamcharts.com/top\"\n",
    "    resp = requests.get(url)\n",
    "    soup = BeautifulSoup(resp.text, 'html.parser')\n",
    "    table = soup.find(\"table\", {\"class\": \"common-table\"})\n",
    "    games = []\n",
    "    for row in table.find_all(\"tr\")[1:n+1]:\n",
    "        cols = row.find_all(\"td\")\n",
    "        rank = int(cols[0].text.strip().replace('.', ''))\n",
    "        name = cols[1].find(\"a\").text.strip()\n",
    "        steamcharts_url = cols[1].find(\"a\")[\"href\"]\n",
    "        # Extract appid from URL like /app/730\n",
    "        appid = int(steamcharts_url.split(\"/\")[2])\n",
    "        current_players = int(cols[2].text.strip().replace(',', ''))\n",
    "        games.append({\n",
    "            \"rank\": rank,\n",
    "            \"name\": name,\n",
    "            \"appid\": appid,\n",
    "            \"current_players\": current_players\n",
    "        })\n",
    "    return games\n",
    "\n",
    "if __name__ == \"__main__\":\n",
    "    top_games = get_top_steam_games()\n",
    "    for game in top_games:\n",
    "        print(f\"#{game['rank']}: {game['name']} (AppID: {game['appid']}) - Players: {game['current_players']}\")"
   ]
  },
  {
   "cell_type": "code",
   "execution_count": 13,
   "id": "47a30776-d1db-42a4-86e0-42a61e0b6510",
   "metadata": {},
   "outputs": [
    {
     "name": "stdout",
     "output_type": "stream",
     "text": [
      "Requirement already satisfied: python-dotenv in c:\\users\\ryoko\\anaconda3\\envs\\cohort2\\lib\\site-packages (1.1.1)\n",
      "Note: you may need to restart the kernel to use updated packages.\n"
     ]
    }
   ],
   "source": [
    "pip install python-dotenv"
   ]
  },
  {
   "cell_type": "code",
   "execution_count": 15,
   "id": "89314e28-50f2-4bc9-ae4f-a4238afd1c55",
   "metadata": {},
   "outputs": [],
   "source": [
    "from dotenv import load_dotenv\n",
    "import os\n",
    "\n",
    "load_dotenv(r'C:\\Users\\ryoko\\OneDrive\\Documents\\Data Sciecne Course Files\\Mini Project 3\\twitch_api.env')\n",
    "\n",
    "TWITCH_CLIENT_ID = os.getenv(\"TWITCH_CLIENT_ID\")\n",
    "TWITCH_CLIENT_SECRET = os.getenv(\"TWITCH_CLIENT_SECRET\")"
   ]
  },
  {
   "cell_type": "code",
   "execution_count": 17,
   "id": "4125b599-e5db-478e-b5fd-8d71ba5a304b",
   "metadata": {},
   "outputs": [
    {
     "name": "stdout",
     "output_type": "stream",
     "text": [
      "No Twitch game ID found for Counter-Strike 2\n",
      "Twitch streams for Dota 2: 96\n",
      "Twitch streams for PUBG: BATTLEGROUNDS: 99\n",
      "No Twitch game ID found for Marvel Rivals \n",
      "Twitch streams for Delta Force: 100\n",
      "Twitch streams for Bongo Cat: 0\n",
      "Twitch streams for PEAK: 99\n",
      "Twitch streams for Stardew Valley: 100\n",
      "No Twitch game ID found for Tom Clancy's Rainbow Six® Siege X\n",
      "No Twitch game ID found for Wallpaper Engine\n",
      "Twitch streams for Rust: 100\n",
      "Twitch streams for Banana: 0\n",
      "Twitch streams for Apex Legends: 100\n",
      "Twitch streams for RimWorld: 98\n",
      "No Twitch game ID found for NARAKA: BLADEPOINT \n",
      "Twitch streams for Call of Duty: 89\n",
      "Twitch streams for Dead by Daylight: 96\n",
      "Twitch streams for Palworld: 99\n",
      "Twitch streams for Baldur's Gate 3: 100\n",
      "Twitch streams for Dune: Awakening: 100\n"
     ]
    }
   ],
   "source": [
    "import os\n",
    "import requests\n",
    "import time\n",
    "from dotenv import load_dotenv\n",
    "\n",
    "# Load environment variables from .env file\n",
    "load_dotenv()\n",
    "\n",
    "TWITCH_CLIENT_ID = os.getenv(\"TWITCH_CLIENT_ID\")\n",
    "TWITCH_CLIENT_SECRET = os.getenv(\"TWITCH_CLIENT_SECRET\")\n",
    "\n",
    "def get_twitch_oauth_token(client_id, client_secret):\n",
    "    url = \"https://id.twitch.tv/oauth2/token\"\n",
    "    params = {\n",
    "        \"client_id\": client_id,\n",
    "        \"client_secret\": client_secret,\n",
    "        \"grant_type\": \"client_credentials\"\n",
    "    }\n",
    "    r = requests.post(url, params=params)\n",
    "    r.raise_for_status()\n",
    "    return r.json()[\"access_token\"]\n",
    "\n",
    "def get_twitch_game_id(game_name, oauth_token, client_id):\n",
    "    url = \"https://api.twitch.tv/helix/games\"\n",
    "    headers = {\n",
    "        \"Client-ID\": client_id,\n",
    "        \"Authorization\": f\"Bearer {oauth_token}\"\n",
    "    }\n",
    "    params = {\"name\": game_name}\n",
    "    r = requests.get(url, headers=headers, params=params)\n",
    "    r.raise_for_status()\n",
    "    data = r.json()[\"data\"]\n",
    "    if data:\n",
    "        return data[0][\"id\"]\n",
    "    else:\n",
    "        return None\n",
    "\n",
    "def get_live_stream_count(game_id, oauth_token, client_id):\n",
    "    url = \"https://api.twitch.tv/helix/streams\"\n",
    "    headers = {\n",
    "        \"Client-ID\": client_id,\n",
    "        \"Authorization\": f\"Bearer {oauth_token}\"\n",
    "    }\n",
    "    params = {\"game_id\": game_id, \"first\": 100}\n",
    "    r = requests.get(url, headers=headers, params=params)\n",
    "    r.raise_for_status()\n",
    "    data = r.json()[\"data\"]\n",
    "    # The API returns a list of streams; count them\n",
    "    return len(data)\n",
    "\n",
    "if __name__ == \"__main__\":\n",
    "    # Example: Use with top Steam games\n",
    "    top_games = [\n",
    "        {\"name\": \"Counter-Strike 2\"},\n",
    "        {\"name\": \"Dota 2\"},\n",
    "        {\"name\": \"PUBG: BATTLEGROUNDS\"},\n",
    "        {\"name\": \"Marvel Rivals \"},\n",
    "        {\"name\": \"Delta Force\"},\n",
    "        {\"name\": \"Bongo Cat\"},\n",
    "        {\"name\": \"PEAK\"},\n",
    "        {\"name\": \"Stardew Valley\"},\n",
    "        {\"name\": \"Tom Clancy's Rainbow Six® Siege X\"},\n",
    "        {\"name\": \"Wallpaper Engine\"},\n",
    "        {\"name\": \"Rust\"},\n",
    "        {\"name\": \"Banana\"},\n",
    "        {\"name\": \"Apex Legends\"},\n",
    "        {\"name\": \"RimWorld\"},\n",
    "        {\"name\": \"NARAKA: BLADEPOINT \"},\n",
    "        {\"name\": \"Call of Duty\"},\n",
    "        {\"name\": \"Dead by Daylight\"},\n",
    "        {\"name\": \"Palworld\"},\n",
    "        {\"name\": \"Baldur's Gate 3\"},\n",
    "        {\"name\": \"Dune: Awakening\"},\n",
    "        # Add more game names as needed\n",
    "    ]\n",
    "    token = get_twitch_oauth_token(TWITCH_CLIENT_ID, TWITCH_CLIENT_SECRET)\n",
    "    for game in top_games:\n",
    "        game_id = get_twitch_game_id(game[\"name\"], token, TWITCH_CLIENT_ID)\n",
    "        if game_id:\n",
    "            count = get_live_stream_count(game_id, token, TWITCH_CLIENT_ID)\n",
    "            print(f\"Twitch streams for {game['name']}: {count}\")\n",
    "        else:\n",
    "            print(f\"No Twitch game ID found for {game['name']}\")\n",
    "        time.sleep(0.5)  # Avoid rate limits"
   ]
  },
  {
   "cell_type": "code",
   "execution_count": null,
   "id": "7bbce8fd-8186-4d10-b153-e3134ad24c99",
   "metadata": {},
   "outputs": [],
   "source": [
    "#try hard coding ,download all the dataset"
   ]
  },
  {
   "cell_type": "code",
   "execution_count": 18,
   "id": "2a31b108-4ef6-4b67-926e-2aa6751dcd58",
   "metadata": {},
   "outputs": [],
   "source": [
    "import requests\n",
    "import datetime\n",
    "import json\n",
    "\n",
    "# Step 1: Download all games from SteamSpy\n",
    "r = requests.get(\"https://steamspy.com/api.php?request=all\")\n",
    "all_games = r.json()\n",
    "\n",
    "# Step 2: Filter for games released from 2015 onward\n",
    "recent_games = []\n",
    "for appid, game in all_games.items():\n",
    "    try:\n",
    "        release_date = datetime.datetime.strptime(game[\"release_date\"], \"%b %d, %Y\")\n",
    "        if release_date.year >= 2015:\n",
    "            recent_games.append(game)\n",
    "    except Exception:\n",
    "        continue\n",
    "\n",
    "# Step 3: Save or further enrich with Steam Storefront API as needed\n",
    "with open(\"steam_games_2015plus.json\", \"w\", encoding=\"utf-8\") as f:\n",
    "    json.dump(recent_games, f, ensure_ascii=False, indent=2)"
   ]
  },
  {
   "cell_type": "code",
   "execution_count": null,
   "id": "a7501a59-9b99-478d-8a3b-1fe2c85bdf6e",
   "metadata": {},
   "outputs": [],
   "source": []
  }
 ],
 "metadata": {
  "kernelspec": {
   "display_name": "Python 3 (ipykernel)",
   "language": "python",
   "name": "python3"
  },
  "language_info": {
   "codemirror_mode": {
    "name": "ipython",
    "version": 3
   },
   "file_extension": ".py",
   "mimetype": "text/x-python",
   "name": "python",
   "nbconvert_exporter": "python",
   "pygments_lexer": "ipython3",
   "version": "3.11.11"
  }
 },
 "nbformat": 4,
 "nbformat_minor": 5
}
